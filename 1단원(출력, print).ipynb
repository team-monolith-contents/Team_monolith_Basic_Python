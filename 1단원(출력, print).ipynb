{
 "cells": [
  {
   "cell_type": "markdown",
   "id": "6c449232-b2eb-4bd9-b4ea-c94739d85791",
   "metadata": {},
   "source": [
    "## **프로그래밍 언어의 종류**\n",
    "\n",
    "* **텍스트 기반의 언어**\n",
    "1. 웹 개발에 특화된 언어 :  JavaScritpt (자바 스크립트), html\n",
    "2. 수집한 데이터 베이스를 다루는 데 특화된 언어 : SQL\n",
    "3. 활용 범위가 넓은 파이썬과 C언어 \n",
    "\n",
    "* **블록기반의 언어**\n",
    "1. 교육 목적의 언어 :  스크래치(Scratch), 엔트리(Entry)\n"
   ]
  },
  {
   "cell_type": "markdown",
   "id": "66f603a2-10d3-4e77-b86e-73b8acfe0ed8",
   "metadata": {
    "tags": []
   },
   "source": [
    "## **파이썬 언어를 배우는 이유**\n",
    "\n",
    "**1. 파이썬은 활용할 수 있는 곳이 많은 언어다.** \n",
    "* 데이터 수집과 분석\n",
    "* 인공지능 프로그래밍 \n",
    "* 웹 사이트 제작\n",
    "\n",
    "**2. 문법이 쉽고 간단하다.** \n",
    "\n",
    "**3. 다양한 라이브러리가 많이 개발되어 활용하기 쉽다.**\n",
    "\n"
   ]
  },
  {
   "cell_type": "markdown",
   "id": "d3dc8cca-effc-4060-9e32-f584319ebb34",
   "metadata": {},
   "source": [
    "## **Print 명령어를 살펴보자.  예시 : Print(\"Hello World\")**\n",
    "|코드|설명|\n",
    "|------|---|\n",
    "|print|'화면에 출력하라'라는 뜻을 가지고 있는 명령어입니다. 소괄호 안의 문구를 출력합니다.|\n",
    "|(|명령어와 출력 문구를 \"Hello World\" 구분합니다.|\n",
    "|\"|파이썬 프로그램에서는 문자열을 표현할 때 반드시 큰 따옴표나 작은 따옴표를 통해 문구를 감싸주어여 합니다.|\n",
    "|Hello World|출력하고자 하는 문자열입니다. 한글, 영어, 숫자도 출력 가능합니다.|\n",
    "|\"|다시 따옴표를 통해 출력하고자 하는 문자열의 마지막을 알려줍니다.|\n",
    "|)|열은 소괄호를 닫아주어야 합니다.|"
   ]
  },
  {
   "cell_type": "code",
   "execution_count": 1,
   "id": "50ce891d-359c-43d2-aafa-5208c13850fe",
   "metadata": {},
   "outputs": [
    {
     "name": "stdout",
     "output_type": "stream",
     "text": [
      "안녕하세요\n"
     ]
    }
   ],
   "source": [
    "#예제 1. 안녕하세요를 출력해봅시다. \n",
    "print(\"안녕하세요\")"
   ]
  },
  {
   "cell_type": "markdown",
   "id": "df6ca4ce-8ee8-46d1-9bad-a8bb6c80ab2e",
   "metadata": {},
   "source": [
    "<a href='#jce-judge/open/134' target='_self'><h3>안녕, 코들 1</h3></a>"
   ]
  },
  {
   "cell_type": "markdown",
   "id": "09a35fa4-15e2-4f10-88c5-1d4cf48e49bd",
   "metadata": {},
   "source": [
    "<a href='#jce-judge/open/112' target='_self'><h3>안녕, 코들 2</h3></a>"
   ]
  },
  {
   "cell_type": "markdown",
   "id": "d66f66c0-5e87-4f09-91c1-b81381dd22be",
   "metadata": {},
   "source": [
    "### **알아두기 : print(  ) 명령어는 끝나면 자동으로 줄이 바뀌고,위에서부터 실행됩니다.**"
   ]
  },
  {
   "cell_type": "code",
   "execution_count": 3,
   "id": "ec2250c6-55ca-42a3-9550-a1c4b91edf35",
   "metadata": {},
   "outputs": [
    {
     "name": "stdout",
     "output_type": "stream",
     "text": [
      "코들 고등학교\n",
      "우영우\n",
      "30101\n"
     ]
    }
   ],
   "source": [
    "#예제 2. 학교, 이름, 학번을 여러 줄로 나누어 출력해보자. \n",
    "print(\"코들 고등학교\")\n",
    "print(\"우영우\")\n",
    "print(\"30101\")"
   ]
  },
  {
   "cell_type": "markdown",
   "id": "900713be-7e80-454b-a175-2edc8f1536c2",
   "metadata": {},
   "source": [
    "<a href='#jce-judge/open/132' target='_self'><h3>안녕, 코들 3</h3></a>\n"
   ]
  },
  {
   "cell_type": "markdown",
   "id": "a5b80443-7849-48a9-aa5b-e8990dec3651",
   "metadata": {},
   "source": [
    "### **특수문자를 출력해보자.**\n",
    "> 따옴표를 포함하여 \"안녕하세요\" 같이 종종 작은 따옴표나 큰 따옴표를 함께 출력해야할 경우도 있습니다.  \n",
    "> 파이썬으로 \\(백슬래시), \"(큰따옴표), '(작은따옴표)를 출력하기 위해서는 문자 앞에 \\(백슬래시)를 붙여줘야 합니다.\n"
   ]
  },
  {
   "cell_type": "code",
   "execution_count": 5,
   "id": "41969fa2-28e6-442d-a237-0fa88f8a7284",
   "metadata": {},
   "outputs": [
    {
     "name": "stdout",
     "output_type": "stream",
     "text": [
      "\"안녕하세요\"\n"
     ]
    }
   ],
   "source": [
    "#예제 3. 따옴표를 포함해서 문자열을 출력해보자. \n",
    "print(\"\\\"안녕하세요\\\"\")"
   ]
  },
  {
   "cell_type": "markdown",
   "id": "445abe08-c791-40db-861c-d94332993747",
   "metadata": {},
   "source": [
    "<a href='#jce-judge/open/136' target='_self'><h3>안녕, 코들 5</h3></a>\n"
   ]
  },
  {
   "cell_type": "markdown",
   "id": "0aca2c49-1ff8-43dd-a82c-682d0b440577",
   "metadata": {},
   "source": [
    "<a href='#jce-judge/open/177' target='_self'><h3>특수문자 출력하기 1</h3></a>\n"
   ]
  },
  {
   "cell_type": "markdown",
   "id": "feb979a2-54ce-419a-9beb-80b35af57594",
   "metadata": {},
   "source": [
    "<a href='#jce-judge/open/179' target='_self'><h3>특수 문자 출력하기 2</h3></a>\n"
   ]
  },
  {
   "cell_type": "markdown",
   "id": "99dddb18-973e-40a8-adc0-1ca886cdfd82",
   "metadata": {},
   "source": [
    "<a href='#jce-judge/open/178' target='_self'><h3>특수 문자 출력하기 3</h3></a>\n"
   ]
  }
 ],
 "metadata": {
  "kernelspec": {
   "display_name": "Python 3 (ipykernel)",
   "language": "python",
   "name": "python3"
  },
  "language_info": {
   "codemirror_mode": {
    "name": "ipython",
    "version": 3
   },
   "file_extension": ".py",
   "mimetype": "text/x-python",
   "name": "python",
   "nbconvert_exporter": "python",
   "pygments_lexer": "ipython3",
   "version": "3.10.4"
  }
 },
 "nbformat": 4,
 "nbformat_minor": 5
}
