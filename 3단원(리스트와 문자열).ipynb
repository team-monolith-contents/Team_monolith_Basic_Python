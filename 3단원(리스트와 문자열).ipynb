{
 "cells": [
  {
   "cell_type": "markdown",
   "id": "be694475-cd0e-44b2-bc53-d333be62d833",
   "metadata": {},
   "source": [
    "## **리스트란?**\n",
    "* 지금까지 활용한 데이터는 숫자, 문자 등 개별 데이터였다면 리스트는 여러개의 데이터를 모아서 사용할 수 있습니다.\n",
    "* 즉, 데이터들을 묶어서 사용해야할 때 하나의 이름으로 묶어주는 방법입니다. \n",
    "* 리스트는 다음과 같이 대괄호 안에 자료를 쉼표로 구분해서 입력합니다. \n",
    "> 리스트 이름 = [데이터 1, 데이터 2, ... ]  \n",
    "예시 : a = [1,2,3]\n"
   ]
  },
  {
   "cell_type": "markdown",
   "id": "a1b4e3fe-cbc9-4e93-8a46-9c3050001f34",
   "metadata": {},
   "source": [
    "### **리스트의 특성**\n",
    "* 리스트는 한가지 자료형으로 구성될 때도 있고, 여러 종류의 자료형을 저장할 수도 있습니다. "
   ]
  },
  {
   "cell_type": "code",
   "execution_count": 1,
   "id": "487b4e06-3e16-4d2b-8edb-ea3d29d3746e",
   "metadata": {
    "tags": [
     "jce.problems.3단원.3단원-예제1"
    ]
   },
   "outputs": [
    {
     "name": "stdout",
     "output_type": "stream",
     "text": [
      "[1, 2, 3]\n",
      "['a', 'b', 'c']\n",
      "[1, 2, 'codle', 56]\n"
     ]
    }
   ],
   "source": [
    "# 예제 1 : 다양한 형태의 리스트를 출력해보자.  \n",
    "number_list = [1,2,3]\n",
    "word_list = ['a','b','c']\n",
    "mix_list = [1,2,'codle',56]\n",
    "\n",
    "print(number_list)\n",
    "print(word_list)\n",
    "print(mix_list)"
   ]
  },
  {
   "cell_type": "markdown",
   "id": "578cfd89-f062-45e3-8d17-7a8110372387",
   "metadata": {},
   "source": [
    "### **리스트의 요소에 접근하기**\n",
    "예제에서 활용하였던, mix_list 예시를 통해 인덱스를 활용하여 각 요소에 접근하는 법을 설명드리겠습니다.  \n",
    "\n",
    "인덱스 | 0 | 1 | 2 | 3\n",
    "---|:---:|---|---|---\n",
    "리스트 mix_list| 1 | 2 | codle | 56\n"
   ]
  },
  {
   "cell_type": "code",
   "execution_count": 4,
   "id": "67ed1d44-8c00-4ce2-8bad-f9e724f6475c",
   "metadata": {
    "tags": [
     "jce.problems.3단원.3단원-예제2"
    ]
   },
   "outputs": [
    {
     "name": "stdout",
     "output_type": "stream",
     "text": [
      "1\n",
      "2\n",
      "codle\n",
      "56\n"
     ]
    }
   ],
   "source": [
    "# 예제 2 : 다양한 형태의 리스트를 출력해보자.  \n",
    "print(mix_list[0])\n",
    "print(mix_list[1])\n",
    "print(mix_list[2])\n",
    "print(mix_list[3])"
   ]
  },
  {
   "cell_type": "markdown",
   "id": "d6fba0ec-befc-473c-94f6-08d6ca03c988",
   "metadata": {},
   "source": [
    "### **인덱스로 리스트 값 수정하기**\n",
    "또한, 리스트의 인덱스를 활용해 데이터를 수정할 수 있고, 값으로 연산을 할 수 있습니다.\n",
    "Index | 0 | 1 | 2 | 3\n",
    "---|:---:|---|---|---\n",
    "리스트 mix_list| 1 | 2 | codle | 56\n",
    "\n"
   ]
  },
  {
   "cell_type": "code",
   "execution_count": 5,
   "id": "37c789a1-c266-40a0-b87b-c2b4c8850eea",
   "metadata": {
    "tags": [
     "jce.problems.3단원.3단원-예제3"
    ]
   },
   "outputs": [
    {
     "name": "stdout",
     "output_type": "stream",
     "text": [
      "[1, 2, 40, 56]\n"
     ]
    }
   ],
   "source": [
    "#예제 3: Index 값을 활용해 리스트 내부 값 수정하기 \n",
    "mix_list[2] = 40\n",
    "print(mix_list)"
   ]
  },
  {
   "cell_type": "markdown",
   "id": "e31bdbaf-79b9-4908-82a6-e36d2b306d50",
   "metadata": {},
   "source": [
    "위와 같은 코드로 원하는 값이 들어있지 않을 때, 인덱스를 활용하여 값을 수정할 수 있습니다. \n",
    "\n",
    "Index | 0 | 1 | 2 | 3\n",
    "---|:---:|---|---|---\n",
    "리스트 mix_list| 1 | 2 | 40 | 56"
   ]
  },
  {
   "cell_type": "code",
   "execution_count": 7,
   "id": "5fd2665b-d3a0-4aba-97fd-0fd518e16c24",
   "metadata": {
    "tags": [
     "jce.problems.3단원.3단원-예제4"
    ]
   },
   "outputs": [
    {
     "name": "stdout",
     "output_type": "stream",
     "text": [
      "80\n"
     ]
    }
   ],
   "source": [
    "#예제 4: Index 값을 활용해 계산하기\n",
    "k = mix_list[1] * mix_list[2]\n",
    "print(k)"
   ]
  },
  {
   "cell_type": "markdown",
   "id": "01990a10-e9b5-483c-a00a-8657001d40f8",
   "metadata": {},
   "source": [
    "### **리스트 관련 함수 사용하기**\n",
    "함수 | 기능 \n",
    "---|---\n",
    "리스트명.append(데이터)| 데이터를 리스트의 마지막에 추가합니다.| \n",
    "리스트명.insert(index, 데이터) |데이터를 list의 해당 index에 삽입합니다.\n",
    "리스트명.remove(데이터)| 리스트에서 데이터 값을 삭제합니다. 같은 데이터가 여러개라면 처음 데이터를 삭제합니다. \n",
    "리스트명.reverse(데이터)| 리스트의 값을 내림차순으로 정렬합니다.\n",
    "리스트명.sort(데이터)| 리스트의 값을 오름차순으로 정렬합니다.\n"
   ]
  },
  {
   "cell_type": "code",
   "execution_count": 20,
   "id": "34925c0a-143e-4fa1-bddb-a185cbda92cc",
   "metadata": {
    "tags": [
     "jce.problems.3단원.3단원-예제5"
    ]
   },
   "outputs": [
    {
     "name": "stdout",
     "output_type": "stream",
     "text": [
      "append 함수 테스트 a값 출력 :  [3, 7, 4, 2, 5, 3, 8]\n",
      "insert 함수 테스트 a값 출력 :  [3, 7, 10, 4, 2, 5, 3, 8]\n",
      "remove 함수 테스트 a값 출력 :  [7, 10, 4, 2, 5, 3, 8]\n",
      "sort 함수 테스트 a값 출력 :  [2, 3, 4, 5, 7, 8, 10]\n",
      "reverse 함수 테스트 a값 출력 :  [10, 8, 7, 5, 4, 3, 2]\n"
     ]
    }
   ],
   "source": [
    "#예제 5: 리스트 관련 함수 사용하기 예제\n",
    "a = [3,7,4,2,5,3]\n",
    "a.append(8)\n",
    "print(\"append 함수 테스트 a값 출력 : \" ,a)\n",
    "\n",
    "a.insert(2,10)\n",
    "print(\"insert 함수 테스트 a값 출력 : \" ,a)\n",
    "\n",
    "a.remove(3)\n",
    "print(\"remove 함수 테스트 a값 출력 : \" ,a)\n",
    "\n",
    "a.sort()\n",
    "print(\"sort 함수 테스트 a값 출력 : \" ,a)\n",
    "\n",
    "a.reverse()\n",
    "print(\"reverse 함수 테스트 a값 출력 : \" ,a)"
   ]
  },
  {
   "cell_type": "markdown",
   "id": "03810704-c3de-43a2-9633-2c640e002849",
   "metadata": {},
   "source": [
    "### **input 함수로 list 입력 받기 1 (1개의 값)**\n",
    "1개의 값을 list로 입력 받을 때에는 다음과 같은 순서로 진행됩니다. \n",
    "1. 빈 리스트 생성\n",
    "2. input 함수를 통해 사용자가 값을 입력하고, 이를 새로운 변수에 저장합니다. \n",
    "3. 변수를 append 함수를 통해 list에 추가합니다. \n"
   ]
  },
  {
   "cell_type": "code",
   "execution_count": 22,
   "id": "6b63c317-357f-4f93-873b-52d35f55f8f7",
   "metadata": {
    "tags": [
     "jce.problems.3단원.3단원-예제6"
    ]
   },
   "outputs": [
    {
     "name": "stdin",
     "output_type": "stream",
     "text": [
      "숫자를 입력하세요:  45\n"
     ]
    },
    {
     "name": "stdout",
     "output_type": "stream",
     "text": [
      "[45]\n"
     ]
    }
   ],
   "source": [
    "#예제 6: 1개의 값을 리스트로 입력 받기\n",
    "sample_list= []\n",
    "n = int(input('숫자를 입력하세요: '))\n",
    "sample_list.append(n)\n",
    "\n",
    "print(sample_list)"
   ]
  },
  {
   "cell_type": "markdown",
   "id": "4d5c8a17-d56c-4dcb-bdb9-9b95ffcbb377",
   "metadata": {},
   "source": [
    "### **input 함수로 list 입력 받기 2 (여러개의 값)**\n",
    "* 여러개의 값을 list로 입력 받을 때에는 list(input().split()) 함수를 사용합니다. \n",
    "* 이 함수를 사용하면, 띄어쓰기로 구분되어 여러개의 문자를 입력받을 수 있습니다. "
   ]
  },
  {
   "cell_type": "code",
   "execution_count": 27,
   "id": "20787977-cce4-4530-b989-7f94acd09c47",
   "metadata": {
    "tags": [
     "jce.problems.3단원.3단원-예제7"
    ]
   },
   "outputs": [
    {
     "name": "stdin",
     "output_type": "stream",
     "text": [
      " 1 2 3 4 5 6\n"
     ]
    },
    {
     "name": "stdout",
     "output_type": "stream",
     "text": [
      "['1', '2', '3', '4', '5', '6']\n"
     ]
    }
   ],
   "source": [
    "#예제 7: 여러개의 값을 list로 입력 받기 \n",
    "n = list(input().split())\n",
    "print(n)"
   ]
  },
  {
   "cell_type": "markdown",
   "id": "cf26fedf-ba67-4d18-a1b6-51ed4e98a64d",
   "metadata": {},
   "source": [
    "### **input 함수로 list 입력 받기 3 (int형태의 여러개의 값)**\n",
    "* 위와 같이 입력을 받으면, 입력된 값은 리스트에 스트링의 형태로 저장됩니다. \n",
    "* int로 리스트 값을 저장하고 싶다면, map 함수를 사용해야 합니다.  "
   ]
  },
  {
   "cell_type": "code",
   "execution_count": 1,
   "id": "197ea538-bbba-4a1c-81aa-2a1c94d2a4b3",
   "metadata": {
    "tags": [
     "jce.problems.3단원.3단원-예제8"
    ]
   },
   "outputs": [
    {
     "name": "stdin",
     "output_type": "stream",
     "text": [
      "숫자를 입력하세요! 1 2 3 4 5 6\n"
     ]
    },
    {
     "name": "stdout",
     "output_type": "stream",
     "text": [
      "[1, 2, 3, 4, 5, 6]\n"
     ]
    }
   ],
   "source": [
    "#예제 8: 여러개의 int 값을 list로 입력 받기\n",
    "int_list = list(map(int, input(\"숫자를 입력하세요!\").split()))\n",
    "print(int_list)"
   ]
  },
  {
   "cell_type": "markdown",
   "id": "c1497b18-3f10-4e48-b281-7a9d4bb2e1dc",
   "metadata": {},
   "source": [
    "# <연습문제 Set>\n",
    "<a href='#jce-judge/open/209' target='_self'><h3>List 기본 문제 1</h3></a>\n",
    "<a href='#jce-judge/open/210' target='_self'><h3>List 기본 문제 2 (최댓값 출력하기)</h3></a>\n",
    "<a href='#jce-judge/open/211' target='_self'><h3>List 기본 문제 3 (최댓값, 최솟값 합 구하기)</h3></a>"
   ]
  },
  {
   "cell_type": "markdown",
   "id": "e50edae3-a0f0-4fe5-8ecf-b3d205ba182a",
   "metadata": {},
   "source": [
    "## **문자열이란?**\n",
    "* 문자를 표현하기 위한 자료형으로, '  ' 혹은 \"   \" 안에 문자열을 넣어 표현합니다.\n",
    "* a = \"codle\" 일때, a에는 codle이라는 문자열이 string(문자열)의 형태로 저장됩니다. \n",
    "* 만약 b = \"Hello Python\" 같이 문자열에 공백이 들어간다면, 공백도 하나의 문자로 저장됩니다. \n",
    "* 문자열도 마찬가지로 index 값이 들어갑니다.   \n",
    "문자열 | H | e | l | l | o |  | P | y | t | h | o | n \n",
    "---|:---:|---|---|---|---|---|---|---|---|---|---|---\n",
    "Index 번호 | 0 | 1 | 2 | 3 | 4 | 5 | 6 | 7 | 8 | 9 | 10 | 11\n"
   ]
  },
  {
   "cell_type": "markdown",
   "id": "1e357213-c956-4e11-840c-6de303fd1aa2",
   "metadata": {},
   "source": [
    "## **문자열 슬라이싱(slicing)이란?**\n",
    "* 문자열의 index 값을 활용하여, 문자열 내에 필요한 부분만 활용할 수 있습니다. 이를 문자열 **슬라이싱(slicing)** 이라 합니다.\n",
    "* k = word[a:b] 을 활용하면, k는 문자열 word의 **a번째 문자 부터 b 이전**까지의 문자를 저장합니다."
   ]
  },
  {
   "cell_type": "code",
   "execution_count": null,
   "id": "2652e546-5f80-437f-9517-b1b56b556b61",
   "metadata": {
    "tags": [
     "jce.problems.3단원.3단원-예제9"
    ]
   },
   "outputs": [],
   "source": [
    "#예제 9 : 문자열 슬라이싱 예시, the를 부분 출력해봅시다. \n",
    "word = \"show me the money!\"\n",
    "print(word[8:11])"
   ]
  },
  {
   "cell_type": "markdown",
   "id": "cb6ef692-3961-42c4-817c-71ce44d271a9",
   "metadata": {},
   "source": [
    "# <연습문제 Set>\n",
    "<a href='#jce-judge/open/138' target='_self'><h3>주민번호 분리하기</h3></a>\n",
    "<a href='#jce-judge/open/190' target='_self'><h3>날짜 분리하기</h3></a>\n",
    "<a href='#jce-judge/open/192' target='_self'><h3>지금은 몇분?</h3></a>\n"
   ]
  }
 ],
 "metadata": {
  "kernelspec": {
   "display_name": "Python 3 (ipykernel)",
   "language": "python",
   "name": "python3"
  },
  "language_info": {
   "codemirror_mode": {
    "name": "ipython",
    "version": 3
   },
   "file_extension": ".py",
   "mimetype": "text/x-python",
   "name": "python",
   "nbconvert_exporter": "python",
   "pygments_lexer": "ipython3",
   "version": "3.10.4"
  }
 },
 "nbformat": 4,
 "nbformat_minor": 5
}
