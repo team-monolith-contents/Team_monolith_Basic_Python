{
 "cells": [
  {
   "cell_type": "markdown",
   "id": "be694475-cd0e-44b2-bc53-d333be62d833",
   "metadata": {},
   "source": [
    "## **리스트란?**\n",
    "* 지금까지 활용한 데이터는 숫자, 문자 등 개별 데이터였다면 리스트는 여러개의 데이터를 모아서 사용할 수 있습니다.\n",
    "* 즉, 데이터들을 묶어서 사용해야할 때 하나의 이름으로 묶어주는 방법입니다. \n",
    "* 리스트 안의 데이터들을 요소(element)라고 합니다. \n",
    "* 리스트는 다음과 같이 대괄호 안에 자료들을 입력합니다. 각 자료는 쉼표로 구분해주어야 합니다.   \n",
    "> 리스트 이름 = [데이터 1, 데이터 2, ... ]  \n",
    "예시 : a = [1,2,3]\n",
    "\n",
    "* 빈 리스트는 대괄호 안을 비운 채로 작성해주면 됩니다. \n",
    "> 리스트 이름 = []"
   ]
  },
  {
   "cell_type": "markdown",
   "id": "a1b4e3fe-cbc9-4e93-8a46-9c3050001f34",
   "metadata": {},
   "source": [
    "### **리스트의 특성**\n",
    "* 리스트는 한 가지 자료형만을 저장할 수도 있고, 여러 종류의 자료형을 함께 저장할 수도 있습니다. "
   ]
  },
  {
   "cell_type": "markdown",
   "id": "845b7545-5a8f-41c5-b375-14857a3a15c6",
   "metadata": {},
   "source": [
    "### **리스트 출력 방법**  \n",
    "* 리스트도 다른 자료형들과 같이 print() 함수를 활용하여 출력할 수 있습니다. \n",
    "* 리스트 전체를 출력하기 위해서는 print(리스트 이름) 과 같이 코드를 작성해줍니다. \n",
    "* 아래 예제를 통해 리스트의 출력 형태를 확인해보자. "
   ]
  },
  {
   "cell_type": "code",
   "execution_count": null,
   "id": "487b4e06-3e16-4d2b-8edb-ea3d29d3746e",
   "metadata": {
    "tags": [
     "jce.problems.3단원.3단원-예제1"
    ]
   },
   "outputs": [],
   "source": [
    "# 예제 1 : 다양한 형태의 리스트를 출력해보자. \n",
    "number_list = [1,2,3]\n",
    "word_list = ['a','b','c']\n",
    "mix_list = [1,2,'codle',56]\n",
    "\n",
    "print(number_list)\n",
    "print(word_list)\n",
    "print(mix_list)"
   ]
  },
  {
   "cell_type": "markdown",
   "id": "578cfd89-f062-45e3-8d17-7a8110372387",
   "metadata": {},
   "source": [
    "### **리스트의 요소에 접근하기**\n",
    "리스트의 요소에 접근하는 방법은 인덱스를 활용하는 것입니다.  \n",
    "예제에서 활용하였던, 인덱스를 활용하여 mix_list 의 각 요소에 접근하는 방법을 보도록 합시다.   \n",
    "\n",
    "\n",
    "인덱스 | 0 | 1 | 2 | 3\n",
    "---|:---:|---|---|---\n",
    "mix_list 요소| 1 | 2 | codle | 56\n",
    "\n",
    "\n",
    "(인덱스는 위의 표와 같이 0부터 시작한다는 점에 유의하며 아래 예제를 풀어 봅시다.)  "
   ]
  },
  {
   "cell_type": "code",
   "execution_count": null,
   "id": "67ed1d44-8c00-4ce2-8bad-f9e724f6475c",
   "metadata": {
    "tags": [
     "jce.problems.3단원.3단원-예제2"
    ]
   },
   "outputs": [],
   "source": [
    "# 예제 2 : mix_list = [1,2,'codle',56] 를 요소 별로 출력해보자.   \n",
    "print(mix_list[0])\n",
    "print(mix_list[1])\n",
    "print(mix_list[2])\n",
    "print(mix_list[3])"
   ]
  },
  {
   "cell_type": "markdown",
   "id": "d6fba0ec-befc-473c-94f6-08d6ca03c988",
   "metadata": {},
   "source": [
    "### **인덱스로 리스트 값 수정하기**\n",
    "또한, 리스트의 인덱스는 리스트의 요소를 수정하거나, 요소로 연산을 할 때도 활용됩니다.  \n",
    "\n",
    "Index | 0 | 1 | 2 | 3\n",
    "---|:---:|---|---|---\n",
    "mix_list 요소| 1 | 2 | codle | 56\n",
    "\n"
   ]
  },
  {
   "cell_type": "code",
   "execution_count": null,
   "id": "37c789a1-c266-40a0-b87b-c2b4c8850eea",
   "metadata": {
    "tags": [
     "jce.problems.3단원.3단원-예제3"
    ]
   },
   "outputs": [],
   "source": [
    "#예제 3: Index 를 활용하여 리스트 요소 수정하고 출력해보기\n",
    "mix_list[2] = 40\n",
    "print(mix_list)"
   ]
  },
  {
   "cell_type": "markdown",
   "id": "e31bdbaf-79b9-4908-82a6-e36d2b306d50",
   "metadata": {},
   "source": [
    "위의 코드와 같이, 인덱스를 활용하여 리스트 내에 원치 않는 요소가 들어있을 때, 그 값을 수정할 수 있습니다. \n",
    "\n",
    "Index | 0 | 1 | 2 | 3\n",
    "---|:---:|---|---|---\n",
    "리스트 mix_list| 1 | 2 | 40 | 56"
   ]
  },
  {
   "cell_type": "code",
   "execution_count": null,
   "id": "5fd2665b-d3a0-4aba-97fd-0fd518e16c24",
   "metadata": {
    "tags": [
     "jce.problems.3단원.3단원-예제4"
    ]
   },
   "outputs": [],
   "source": [
    "#예제 4: Index 요소를 활용해 연산하기\n",
    "k = mix_list[1] * mix_list[2]\n",
    "print(k)"
   ]
  },
  {
   "cell_type": "markdown",
   "id": "01990a10-e9b5-483c-a00a-8657001d40f8",
   "metadata": {},
   "source": [
    "### **리스트 관련 함수 사용하기**\n",
    "함수 | 기능 \n",
    "---|---\n",
    "리스트명.append(데이터)| 데이터를 리스트의 마지막에 추가합니다.| \n",
    "리스트명.insert(index, 데이터) |데이터를 list의 해당 index에 삽입합니다.\n",
    "리스트명.remove(데이터)| 리스트에서 데이터 값을 삭제합니다. 같은 데이터가 여러 개라면 가장 처음 데이터를 삭제합니다. \n",
    "리스트명.reverse(데이터)| 리스트의 값을 내림차순으로 정렬합니다. (문자열은 사전의 역순으로 정렬합니다.)\n",
    "리스트명.sort(데이터)| 리스트의 값을 오름차순으로 정렬합니다. (문자열은 사전순으로 정렬합니다.)\n"
   ]
  },
  {
   "cell_type": "code",
   "execution_count": null,
   "id": "34925c0a-143e-4fa1-bddb-a185cbda92cc",
   "metadata": {
    "tags": [
     "jce.problems.3단원.3단원-예제5"
    ]
   },
   "outputs": [],
   "source": [
    "#예제 5: 리스트 관련 함수 사용해보기\n",
    "a = [3,7,4,2,5,3]\n",
    "a.append(8)\n",
    "print(\"append 함수 테스트 a값 출력 : \" ,a)\n",
    "\n",
    "a.insert(2,10)\n",
    "print(\"insert 함수 테스트 a값 출력 : \" ,a)\n",
    "\n",
    "a.remove(3)\n",
    "print(\"remove 함수 테스트 a값 출력 : \" ,a)\n",
    "\n",
    "a.sort()\n",
    "print(\"sort 함수 테스트 a값 출력 : \" ,a)\n",
    "\n",
    "a.reverse()\n",
    "print(\"reverse 함수 테스트 a값 출력 : \" ,a)"
   ]
  },
  {
   "cell_type": "markdown",
   "id": "03810704-c3de-43a2-9633-2c640e002849",
   "metadata": {},
   "source": [
    "### **input 함수로 list 입력 받기 1 (1개의 값)**\n",
    "1개의 값을 list로 입력 받을 때에는 다음과 같은 순서로 진행됩니다. \n",
    "1. 빈 리스트 생성\n",
    "2. input 함수를 통해 사용자가 값을 입력하고, 이를 새로운 변수에 저장합니다. \n",
    "3. 변수를 append 함수를 통해 list에 추가합니다. \n"
   ]
  },
  {
   "cell_type": "code",
   "execution_count": null,
   "id": "6b63c317-357f-4f93-873b-52d35f55f8f7",
   "metadata": {
    "tags": [
     "jce.problems.3단원.3단원-예제6"
    ]
   },
   "outputs": [],
   "source": [
    "#예제 6: 1개의 값을 리스트로 입력 받기\n",
    "sample_list= []  # 빈 리스트 생성\n",
    "n = int(input('숫자를 입력하세요: '))  # input함수로 입력 받은 값은 문자열입니다. 정수형 데이터를 원한다면 자료형을 변환해주어야 합니다. \n",
    "sample_list.append(n)\n",
    "\n",
    "print(sample_list)"
   ]
  },
  {
   "cell_type": "markdown",
   "id": "4d5c8a17-d56c-4dcb-bdb9-9b95ffcbb377",
   "metadata": {},
   "source": [
    "### **input 함수로 list 입력 받기 2 (여러개의 값)**\n",
    "* 여러개의 값을 list로 입력 받을 때에는 list(input().split()) 함수를 사용합니다. \n",
    "* input().split() : 입력된 문자열을 띄어쓰기로 구분하고, 구분된 데이터들을 저장한 list를 반환합니다. "
   ]
  },
  {
   "cell_type": "code",
   "execution_count": null,
   "id": "20787977-cce4-4530-b989-7f94acd09c47",
   "metadata": {
    "tags": [
     "jce.problems.3단원.3단원-예제7"
    ]
   },
   "outputs": [],
   "source": [
    "#예제 7: 여러개의 값을 list로 입력 받기 \n",
    "n = input().split()\n",
    "print(n) "
   ]
  },
  {
   "cell_type": "markdown",
   "id": "cf26fedf-ba67-4d18-a1b6-51ed4e98a64d",
   "metadata": {},
   "source": [
    "### **input 함수로 list 입력 받기 3 (int형태의 여러개의 값)**\n",
    "* 예제 7과 같이 입력을 받으면, 입력된 값은 리스트에 string(문자열)의 형태로 저장됩니다. \n",
    "* int 형으로 저장하고 싶다면, map 함수를 사용해야 합니다.  \n",
    "* map(함수, 리스트) : 리스트의 요소 모두를 지정된 함수로 처리하는 함수입니다. \n",
    "* map()함수는 처리 결과를 list로 반환하지 않기 때문에 강제로 자료형을 list로 변환해주어야 합니다. (참고 : map은 map이라는 자료형을 반환합니다.)  \n"
   ]
  },
  {
   "cell_type": "code",
   "execution_count": null,
   "id": "197ea538-bbba-4a1c-81aa-2a1c94d2a4b3",
   "metadata": {
    "tags": [
     "jce.problems.3단원.3단원-예제8"
    ]
   },
   "outputs": [],
   "source": [
    "#예제 8: 여러개의 int 값을 list로 입력 받기\n",
    "int_list = list(map(int, input(\"숫자를 입력하세요!\").split()))\n",
    "    # input().split() 으로 입력받은 리스트의 요소들에 int() 함수가 적용되어 map자료로 반환된 결과를 list 자료형으로 변환해주는 코드입니다. \n",
    "\n",
    "print(int_list)"
   ]
  },
  {
   "cell_type": "markdown",
   "id": "c40ce8b6-2b7e-42f6-8c08-025de7568abc",
   "metadata": {},
   "source": [
    "* 참고 : map() 함수는 원본 리스트를 변경하지 않고 새 리스트를 생성합니다."
   ]
  },
  {
   "cell_type": "code",
   "execution_count": null,
   "id": "7a5f7348-9cf7-40ef-ae0d-5bf64a7a9170",
   "metadata": {},
   "outputs": [],
   "source": [
    "origin_list = input(\"숫자를 입력하세요!\").split()\n",
    "print(\"map하지 않은  origin list : \", origin_list)\n",
    "int_list = list(map(int, origin_list))\n",
    "\n",
    "print(\"map한 이후의 origin list : \", origin_list)  # 원본 리스트는 변경되지 않은 모습을 확인할 수 있습니다. \n",
    "print(\"새로 만들어진 리스트 : \", int_list)"
   ]
  },
  {
   "cell_type": "markdown",
   "id": "c1497b18-3f10-4e48-b281-7a9d4bb2e1dc",
   "metadata": {},
   "source": [
    "# <연습문제 Set>\n",
    "<a href='#jce-judge/open/209' target='_self'><h3>List 기본 문제 1</h3></a>\n",
    "<a href='#jce-judge/open/210' target='_self'><h3>List 기본 문제 2 (최댓값 출력하기)</h3></a>\n",
    "<a href='#jce-judge/open/211' target='_self'><h3>List 기본 문제 3 (최댓값, 최솟값 합 구하기)</h3></a>"
   ]
  },
  {
   "cell_type": "markdown",
   "id": "e50edae3-a0f0-4fe5-8ecf-b3d205ba182a",
   "metadata": {},
   "source": [
    "## **문자열이란?**\n",
    "* 문자를 표현하기 위한 자료형으로, '  ' 혹은 \"   \" 안에 문자열을 넣어 표현합니다.\n",
    "* a = \"codle\" 일때, a에는 codle이라는 문자열이 string(문자열)의 형태로 저장됩니다. \n",
    "* 만약 b = \"Hello Python\" 같이 문자열에 공백이 들어간다면, 공백도 하나의 문자로 저장됩니다. \n",
    "* 문자열도 list와 마찬가지로 index 값이 들어갑니다. (공백도 문자이기 때문에 인덱스 값이 지정됩니다.)   \n",
    "문자열 | H | e | l | l | o |  | P | y | t | h | o | n \n",
    "---|:---:|---|---|---|---|---|---|---|---|---|---|---\n",
    "Index 번호 | 0 | 1 | 2 | 3 | 4 | 5 | 6 | 7 | 8 | 9 | 10 | 11\n"
   ]
  },
  {
   "cell_type": "markdown",
   "id": "1e357213-c956-4e11-840c-6de303fd1aa2",
   "metadata": {},
   "source": [
    "## **문자열 슬라이싱(slicing)이란?**\n",
    "* 문자열의 index 값을 활용하여, 문자열 내에 필요한 부분만 잘라내어 활용할 수 있습니다. 이를 문자열 **슬라이싱(slicing)** 이라 합니다.\n",
    "* k = word[a:b] 을 활용하면, k는 문자열 word의 **a번째 문자 부터 b 이전**까지의 문자를 저장합니다. (index[b]인 문자는 포함하지 않음에 유의하여야 합니다)\n",
    "* a가 공란이거나, b가 공란인 경우 각각 \"가장 첫 번째 문자부터\", \"가장 마지막 문자까지\"를 의미합니다. \n"
   ]
  },
  {
   "attachments": {
    "b455b3ed-b2be-4015-b99c-4c79a47c063c.png": {
     "image/png": "[encoded data removed]"
    }
   },
   "cell_type": "markdown",
   "id": "3c569721-dbd2-4ee0-85cc-4058edb8219e",
   "metadata": {},
   "source": [
    "![리스트 슬라이싱.png](attachment:b455b3ed-b2be-4015-b99c-4c79a47c063c.png)"
   ]
  },
  {
   "cell_type": "markdown",
   "id": "4896d1e7-cc08-49c8-91fd-e4eae3c7ed2c",
   "metadata": {},
   "source": [
    "* 음수도 가능합니다. \n",
    "* 음수인 경우 우측부터 해당 숫자만큼 떨어진 index를 의미한다고 생각하면 편합니다.\n",
    "> 예를 들어, 아래의 그림과 같이 문자가 8개인 문자열을 [-4:] 만큼 slicing하면,   \n",
    "우측에서 4만큼 떨어진 index 4에서부터 마지막 문자까지(b공란) slicing합니다.  \n",
    "* word[a:b]에서 index가 b인 값을 미포함한다는 것과 동일하게, b가 음수일 때 b가 가리키는 값은 포함하지 않습니다. \n",
    "> 예를 들어, 문자가 8개인 문자열을 [:-2] 만큼 slicing하면,   \n",
    "가장 첫 번째 문자부터(a공란) 우측에서 2만큼 떨어진 index 6 전까지 slicing 합니다. (index 6는 미포함입니다.)"
   ]
  },
  {
   "attachments": {
    "9023fd3c-3eee-4a01-b4f9-3288250906e9.png": {
     "image/png": "[encoded data removed]"
    }
   },
   "cell_type": "markdown",
   "id": "ed5a9474-9be7-4727-830f-8c988be22ccc",
   "metadata": {},
   "source": [
    "![리스트 슬라이싱(음수).png](attachment:9023fd3c-3eee-4a01-b4f9-3288250906e9.png)"
   ]
  },
  {
   "cell_type": "code",
   "execution_count": null,
   "id": "2652e546-5f80-437f-9517-b1b56b556b61",
   "metadata": {
    "tags": [
     "jce.problems.3단원.3단원-예제9"
    ]
   },
   "outputs": [],
   "source": [
    "#예제 9 : 문자열 슬라이싱 예시, the를 부분 출력해봅시다. (양수와 음수 모두 활용하여 slicing해봅시다.)\n",
    "word = \"show me the money!\"\n",
    "print(word[8:11])\n",
    "print(word[-10:-7])"
   ]
  },
  {
   "cell_type": "markdown",
   "id": "cb6ef692-3961-42c4-817c-71ce44d271a9",
   "metadata": {},
   "source": [
    "# <연습문제 Set>\n",
    "<a href='#jce-judge/open/138' target='_self'><h3>주민번호 분리하기</h3></a>\n",
    "<a href='#jce-judge/open/190' target='_self'><h3>날짜 분리하기</h3></a>\n",
    "<a href='#jce-judge/open/192' target='_self'><h3>지금은 몇분?</h3></a>\n"
   ]
  }
 ],
 "metadata": {
  "kernelspec": {
   "display_name": "Python 3 (ipykernel)",
   "language": "python",
   "name": "python3"
  },
  "language_info": {
   "codemirror_mode": {
    "name": "ipython",
    "version": 3
   },
   "file_extension": ".py",
   "mimetype": "text/x-python",
   "name": "python",
   "nbconvert_exporter": "python",
   "pygments_lexer": "ipython3",
   "version": "3.10.4"
  }
 },
 "nbformat": 4,
 "nbformat_minor": 5
}
