{
 "cells": [
  {
   "cell_type": "markdown",
   "id": "6c449232-b2eb-4bd9-b4ea-c94739d85791",
   "metadata": {
    "tags": []
   },
   "source": [
    "## **조건문이란?**\n",
    "* 조건에 따라 다르게 동작을 실행할 수 있도록 작성한 코드\n",
    "* 조건문을 사용해, 조건이 참인 경우 혹은 거짓인 경우를 나누어 다르게 코드 결과가 실행되게 명령할 수 있다.\n",
    "\n"
   ]
  },
  {
   "cell_type": "markdown",
   "id": "66f603a2-10d3-4e77-b86e-73b8acfe0ed8",
   "metadata": {
    "tags": []
   },
   "source": [
    "## **조건문 활용 방법 1**\n",
    "\n",
    "### if 조건:\n",
    "#### &nbsp;&nbsp;&nbsp;실행할 명령이 담긴 코드 1\n",
    "#### &nbsp;&nbsp;&nbsp;실행할 명령이 담긴 코드 2  \n"
   ]
  },
  {
   "cell_type": "markdown",
   "id": "b2c0db6d-817e-4584-8cb6-5849d476b4d6",
   "metadata": {},
   "source": [
    "#### **기본적인 틀은 위와 같습니다.**  \n",
    "* if 다음의 조건문이 참인 경우 아래에 실행할 명령이 담긴 코드 1,2가 실행됩니다.   \n",
    "* 만약 조건문이 거짓이라면, 조건문 내부의 코드가 실행되지 않고 넘어가게 됩니다."
   ]
  },
  {
   "cell_type": "markdown",
   "id": "cc0dc9af-bb8a-4cbe-9292-da789b207646",
   "metadata": {
    "tags": []
   },
   "source": [
    "## **주의할 점!**\n",
    "1. 조건문 다음에는 꼭 \":\" 문자 colon을 붙여야합니다.\n",
    "2. if문 내부에서 명령문을 작성할 때에는 들여쓰기(indentation)을 해야합니다. \n",
    "3. 들여쓰기는 tab 키를 누르거나 혹은 스페이스바를 4번 눌러야합니다."
   ]
  },
  {
   "cell_type": "markdown",
   "id": "7fb2917a-3052-4b5a-8820-1c84f6dd77d7",
   "metadata": {},
   "source": [
    "## **비교 연산자의 종류**\n",
    "비교 연산자의 종류 | 설명 | 예시 | True of False\n",
    "---|:---:|---|---\n",
    "a>b | a가 b 초과일 때 참 | 17>5 | True\n",
    "a>=b | a가 b 이상일 때 참 | 2>=4 | False\n",
    "a==b | a와 b가 동일할 때 참 | 3==3 |True\n",
    "a!=b | a와 b가 다른 경우 참 | 7!=7 | False\n",
    "a<b | a가 b 미만일 때 참 | 3<4 |True\n",
    "a<=b | a가 b 이하일 때 참 | 7<=9 | True"
   ]
  },
  {
   "cell_type": "code",
   "execution_count": 5,
   "id": "5b2ac41a-2c7f-4556-8572-ba4d75ca3bfb",
   "metadata": {
    "tags": [
     "jce.problems.221.jce.problems.4단원.4단원-예제1"
    ]
   },
   "outputs": [
    {
     "name": "stdin",
     "output_type": "stream",
     "text": [
      "숫자를 입력하세요 10\n"
     ]
    },
    {
     "name": "stdout",
     "output_type": "stream",
     "text": [
      "n은 5가 아닙니다!\n"
     ]
    }
   ],
   "source": [
    "# 예제 1 n이 5인경우, n은 5입니다!를 출력하고, 아닌 경우 n은 5가 아닙니다!를 출력하세요.\n",
    "\n",
    "n = int(input(\"숫자를 입력하세요\"))\n",
    "if n == 5:\n",
    "    print(\"n은 5 입니다!\")\n",
    "                         \n",
    "if n != 5:\n",
    "    print(\"n은 5가 아닙니다!\")\n"
   ]
  },
  {
   "cell_type": "markdown",
   "id": "dd7288e4-841e-414b-894f-29045153f73d",
   "metadata": {},
   "source": [
    "## **조건문 활용 방법 2**\n",
    "\n",
    "### if 조건:\n",
    "#### &nbsp;&nbsp;&nbsp;실행할 명령이 담긴 코드 1\n",
    "#### &nbsp;&nbsp;&nbsp;실행할 명령이 담긴 코드 2  \n",
    "### else:\n",
    "#### &nbsp;&nbsp;&nbsp;실행할 명령이 담긴 코드 3  "
   ]
  },
  {
   "cell_type": "markdown",
   "id": "757f2394-a4ca-48b2-8569-1ec2ded48325",
   "metadata": {},
   "source": [
    "### if else문 설명\n",
    "\n",
    "* if 이후의 조건이 참이면 if 문 아래의 코드가 실행되고 if 이후의 조건이 거짓이면 else 문 아래의 코드가 실행됩니다.\n",
    "* 조건문에서 if와 조건은 반드시 있어야 하지만 else의 경우 생략합니다.\n"
   ]
  },
  {
   "cell_type": "code",
   "execution_count": 10,
   "id": "82cc31de-7645-4836-9c26-eb669a9a331a",
   "metadata": {
    "tags": [
     "jce.problems.221.jce.problems.4단원.4단원-예제2"
    ]
   },
   "outputs": [
    {
     "name": "stdin",
     "output_type": "stream",
     "text": [
      "숫자를 입력하세요 3\n"
     ]
    },
    {
     "name": "stdout",
     "output_type": "stream",
     "text": [
      "n은 5가 아닙니다!\n"
     ]
    }
   ],
   "source": [
    "# 예제 2 if else 문을 활용해 n이 5인경우, n은 5입니다!를 출력하고, 아닌 경우 n은 5가 아닙니다!를 출력하세요.\n",
    "\n",
    "n = int(input(\"숫자를 입력하세요\"))\n",
    "if n == 5:\n",
    "    print(\"n은 5 입니다!\")\n",
    "else:\n",
    "    print(\"n은 5가 아닙니다!\")"
   ]
  },
  {
   "cell_type": "markdown",
   "id": "e9962254-fa0a-4cb3-961e-686296d7dad8",
   "metadata": {
    "tags": []
   },
   "source": [
    "# <연습문제 Set>\n",
    "<a href='#jce-judge/open/116' target='_self'><h3>정수의 참 거짓1</h3></a>\n",
    "<a href='#jce-judge/open/114' target='_self'><h3>정수의 비교4</h3></a>"
   ]
  },
  {
   "cell_type": "markdown",
   "id": "2e8befbb-b60e-41f1-8486-e9eb05349953",
   "metadata": {},
   "source": [
    "## **조건문 활용 방법 3**\n",
    "\n",
    "### if 조건:\n",
    "#### &nbsp;&nbsp;&nbsp;실행할 명령이 담긴 코드 1\n",
    "#### &nbsp;&nbsp;&nbsp;실행할 명령이 담긴 코드 2  \n",
    "### elif 조건:\n",
    "#### &nbsp;&nbsp;&nbsp;실행할 명령이 담긴 코드 3  \n",
    "### else:\n",
    "#### &nbsp;&nbsp;&nbsp;실행할 명령이 담긴 코드 4  "
   ]
  },
  {
   "cell_type": "markdown",
   "id": "2db26bc4-7bbf-4c5f-80af-4ff598c3d34a",
   "metadata": {
    "tags": []
   },
   "source": [
    "### if, elif, else 문 설명\n",
    "\n",
    "* if 이외의 조건에 대해 코드를 구성하고 싶을 때 elif를 사용합니다.\n",
    "* if 이후의 조건이 참이면 if 문 아래의 코드가 실행되고 if 이후의 조건이 거짓이면 elif 조건의 참, 거짓을 확인합니다. \n",
    "* 조건문에서 if와 elif조건이 모두 거짓인 경우 else 이후의 코드가 실행됩니다."
   ]
  },
  {
   "cell_type": "code",
   "execution_count": 11,
   "id": "9d3e2d42-ba4b-4ebd-9d1a-0ebdceda6658",
   "metadata": {
    "tags": [
     "jce.problems.221.jce.problems.4단원.4단원-예제3"
    ]
   },
   "outputs": [
    {
     "name": "stdin",
     "output_type": "stream",
     "text": [
      "숫자를 입력하세요 5\n"
     ]
    },
    {
     "name": "stdout",
     "output_type": "stream",
     "text": [
      "n은 5 입니다!\n"
     ]
    }
   ],
   "source": [
    "# 예제 3 if else 문을 활용해 n이 5인경우, \"n은 5입니다!\", 5보다 큰 경우 \"5보다 큽니다!\", 5보다 작은경우 \"5보다 작습니다!\"를 출력합니다.\n",
    "n = int(input(\"숫자를 입력하세요\"))\n",
    "if n == 5:\n",
    "    print(\"n은 5 입니다!\")\n",
    "elif n > 5:\n",
    "    print(\"n은 5보다 큽니다!\")\n",
    "else:\n",
    "    print(\"n은 5보다 작습니다!\")"
   ]
  },
  {
   "cell_type": "markdown",
   "id": "5968f5f8-7f30-4123-8684-28e5aace90ca",
   "metadata": {
    "tags": []
   },
   "source": [
    "# <연습문제 Set>\n",
    "<a href='#jce-judge/open/130' target='_self'><h3>점수 등급 분류하기1</h3></a>\n",
    "<a href='#jce-judge/open/129' target='_self'><h3>짝수 출력하기2</h3></a>\n",
    "<a href='#jce-judge/open/133' target='_self'><h3>이번 달은 무슨 계절일까요?</h3></a>"
   ]
  }
 ],
 "metadata": {
  "kernelspec": {
   "display_name": "Python 3 (ipykernel)",
   "language": "python",
   "name": "python3"
  },
  "language_info": {
   "codemirror_mode": {
    "name": "ipython",
    "version": 3
   },
   "file_extension": ".py",
   "mimetype": "text/x-python",
   "name": "python",
   "nbconvert_exporter": "python",
   "pygments_lexer": "ipython3",
   "version": "3.10.4"
  }
 },
 "nbformat": 4,
 "nbformat_minor": 5
}
