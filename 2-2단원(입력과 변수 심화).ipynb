{
 "cells": [
  {
   "cell_type": "markdown",
   "id": "f07ee44d-09ac-4ad4-af42-e5cc160bc470",
   "metadata": {},
   "source": [
    "### **Input 함수로 받아온 값은 문자열의 형태로 변수에 저장됩니다.**\n",
    "\n",
    "* 따라서 정수나, 실수 값을 입력하게 되면 문자열 값을 정수나 실수로 바꿔 주어야 합니다.\n",
    "\n",
    "* 이것은 정수로 변환은 `int()`, 실수로 변환은 `float()` 함수를 사용할 수 있습니다."
   ]
  },
  {
   "cell_type": "code",
   "execution_count": 1,
   "id": "932b64da-b95f-48e9-ac21-612201ccc6cb",
   "metadata": {},
   "outputs": [
    {
     "name": "stdin",
     "output_type": "stream",
     "text": [
      "숫자를 입력해보세요 4\n",
      "숫자를 입력해보세요 6\n"
     ]
    },
    {
     "name": "stdout",
     "output_type": "stream",
     "text": [
      "10\n"
     ]
    }
   ],
   "source": [
    "# Example 1\n",
    "\n",
    "A = input(\"숫자를 입력해보세요\") # 값을 입력받아 A에 저장합니다.\n",
    "B = input(\"숫자를 입력해보세요\")\n",
    "sum = int(A)+int(B)\n",
    "\n",
    "print(sum) # A에 저장된 값을 출력합니다."
   ]
  },
  {
   "cell_type": "markdown",
   "id": "cdedd16d-ac43-4f80-a97e-15527170ef28",
   "metadata": {},
   "source": [
    "<a href='#jce-judge/open/181' target='_self'><h3>입력과 출력 2</h3></a>\n",
    "<a href='#jce-judge/open/182' target='_self'><h3>입력과 출력 3</h3></a>\n"
   ]
  },
  {
   "cell_type": "markdown",
   "id": "2642a08f-cebc-4e3e-a314-d9cb30253792",
   "metadata": {},
   "source": [
    "### **Input 함수로 받은 값을 공백을 기준으로 나누어줍니다.**\n",
    "\n",
    "> 도움 :  A,B = input().split()를 통해 공백(space)로 구분된 값을 A와 B에 나누어 저장할 수 있습니다"
   ]
  },
  {
   "cell_type": "code",
   "execution_count": 2,
   "id": "6ef5674c-f2e0-422e-96f4-443f930a5e23",
   "metadata": {},
   "outputs": [
    {
     "name": "stdin",
     "output_type": "stream",
     "text": [
      "1 2 를 입력하세요 1 2\n"
     ]
    },
    {
     "name": "stdout",
     "output_type": "stream",
     "text": [
      "1\n",
      "2\n"
     ]
    }
   ],
   "source": [
    "# Example 2\n",
    "\n",
    "A,B = input('1 2 를 입력하세요').split() # 입력된 값을 공백으로 나누어 변수 A와 변수 B에 저장합니다.\n",
    "\n",
    "print(A) # 변수 A의 값을 출력합니다.\n",
    "print(B) # 변수 B의 값을 출력합니다."
   ]
  },
  {
   "cell_type": "markdown",
   "id": "f7e16ecd-2537-4ce0-9859-b54ef375b3d5",
   "metadata": {},
   "source": [
    "<a href='#jce-judge/open/183' target='_self'><h3>입력과 출력 4</h3></a>\n",
    "<a href='#jce-judge/open/145' target='_self'><h3>덧셈1</h3></a>\n",
    "<a href='#jce-judge/open/140' target='_self'><h3>덧셈2</h3></a>"
   ]
  },
  {
   "cell_type": "markdown",
   "id": "ebe54674-0a1c-4286-82c3-e70ea6c09187",
   "metadata": {},
   "source": [
    "## 실생활 프로젝트 1 : 직사각형 넓이 구하기\n",
    "\n",
    "* 직사각형의 가로와 세로의 길이를 입력받아 넓이를 구하는 프로그램을 작성해 봅시다!\n",
    "\n",
    "> **예시 출력 :**  \n",
    "직사각형의 넓이 구하기  \n",
    "가로 : 5  \n",
    "세로 : 3  \n",
    "직사각형의 넓이는 15입니다!  "
   ]
  },
  {
   "cell_type": "markdown",
   "id": "ba11bbdd-8033-449d-83b6-b523559e3e68",
   "metadata": {},
   "source": [
    " ### **생각해보기**\n",
    " 1. 입력으로 무엇이 들어가야 하는지 고민해보자.   \n",
    " 2. 입력하는 데이터의 자료형은 무엇일까?  \n",
    " 3. 입력하는 데이터를 활용해 어떻게 출력으로 이끌어낼까?  "
   ]
  },
  {
   "cell_type": "code",
   "execution_count": 6,
   "id": "f0530fa0-d927-4bb7-9488-ec3351128629",
   "metadata": {},
   "outputs": [
    {
     "name": "stdout",
     "output_type": "stream",
     "text": [
      "직사각형의 넓이 구하기 : \n"
     ]
    },
    {
     "name": "stdin",
     "output_type": "stream",
     "text": [
      "가로 :  5\n",
      "세로 :  3\n"
     ]
    },
    {
     "name": "stdout",
     "output_type": "stream",
     "text": [
      "직사각형의 넓이는 15입니다.\n"
     ]
    }
   ],
   "source": [
    "#예제 3\n",
    "\n",
    "print(\"직사각형의 넓이 구하기 : \")\n",
    "x = int(input(\"가로 : \"))\n",
    "y = int(input(\"세로 : \"))\n",
    "area = str(x*y)\n",
    "print(\"직사각형의 넓이는 \"+area+\"입니다.\")"
   ]
  },
  {
   "cell_type": "markdown",
   "id": "e72f86f9-ac75-4faf-a117-a9fdc1b6c007",
   "metadata": {},
   "source": [
    "<a href='#jce-judge/open/200' target='_self'><h3>몫 계산</h3></a>\n",
    "<a href='#jce-judge/open/205' target='_self'><h3>합과 평균</h3></a>\n"
   ]
  },
  {
   "cell_type": "markdown",
   "id": "1fc401da-a5f4-4fad-9c18-80b337ee5945",
   "metadata": {},
   "source": [
    "## 실생활 프로젝트 2 : 단위 바꾸기 \n",
    "\n",
    "* 삼겹살 한 근의 가격이 13000원일 때 고기의 무게를 kg단위로 입력받고, 가격(int)을 알려주는 프로그램을 작성해봅시다!\n",
    "\n",
    "> **예시 출력 :**  \n",
    "고기의 가격 구하기!\n",
    "삼겹살 무게: 3.6kg   \n",
    "고기의 가격은 78000원 입니다!  "
   ]
  },
  {
   "cell_type": "code",
   "execution_count": 9,
   "id": "bb3a9dd3-bf38-42c5-85c6-271cdc52b2fd",
   "metadata": {},
   "outputs": [
    {
     "name": "stdout",
     "output_type": "stream",
     "text": [
      "고기의 가격 구하기! \n"
     ]
    },
    {
     "name": "stdin",
     "output_type": "stream",
     "text": [
      "삼겹살 무게 :  3.6\n"
     ]
    },
    {
     "name": "stdout",
     "output_type": "stream",
     "text": [
      "고기의 가격은 78000원 입니다.\n"
     ]
    }
   ],
   "source": [
    "#예제 4\n",
    "\n",
    "print(\"고기의 가격 구하기! \")\n",
    "weight = float(input(\"삼겹살 무게 : \"))\n",
    "price = str(int((weight * 1000/600 *13000)))\n",
    "print(\"고기의 가격은 \"+price+\"원 입니다.\")"
   ]
  },
  {
   "cell_type": "markdown",
   "id": "b4c09700-5903-4d89-8d0a-3abb3bf2f67a",
   "metadata": {},
   "source": [
    "<a href='#jce-judge/open/154' target='_self'><h3>그림 파일의 크기</h3></a>\n",
    "<a href='#jce-judge/open/156' target='_self'><h3>소리 파일의 크기</h3></a>\n"
   ]
  }
 ],
 "metadata": {
  "kernelspec": {
   "display_name": "Python 3 (ipykernel)",
   "language": "python",
   "name": "python3"
  },
  "language_info": {
   "codemirror_mode": {
    "name": "ipython",
    "version": 3
   },
   "file_extension": ".py",
   "mimetype": "text/x-python",
   "name": "python",
   "nbconvert_exporter": "python",
   "pygments_lexer": "ipython3",
   "version": "3.10.4"
  }
 },
 "nbformat": 4,
 "nbformat_minor": 5
}
