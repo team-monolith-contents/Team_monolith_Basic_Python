{
 "cells": [
  {
   "cell_type": "markdown",
   "id": "6c449232-b2eb-4bd9-b4ea-c94739d85791",
   "metadata": {},
   "source": [
    "## **프로그래밍에서 입력이란?**\n",
    "\n",
    "* **입력이 필요한 이유**  \n",
    "프로그램이 입력을 전혀 받지 않는다면, 외부와 상호작용을 할 수 없다.  \n",
    "프로그램은 입력된 자료를 이용하여 명령을 수행하기 때문에 자료를 입력하는 함수는 필수적이다.  \n",
    "컴퓨터는 자료를 입력하는 명령로 입력장치를 통해 자료를 입력 받고, 출력 명령어를 활용해 실행결과를 보여줄 수 있다.\n",
    "\n",
    "\n"
   ]
  },
  {
   "cell_type": "markdown",
   "id": "66f603a2-10d3-4e77-b86e-73b8acfe0ed8",
   "metadata": {
    "tags": []
   },
   "source": [
    "## **Input 함수 활용 방법**\n",
    "\n",
    "**파이썬은 사용자로부터 데이터를 입력받기 위해 input() 함수를 사용한다.** \n",
    "* 입력된 값을 변수에 저장하기 위해서, a = input()과 같이 변수에 대입하여 사용할 수 있다.\n",
    "* 입력된 값의 형태는 문자열이다. \n",
    "\n",
    "**input 함수 괄호 안에 입력한 내용을 프롬프트라 한다.**\n",
    "* 프롬프트 문자열을 출력창에 보여준 후 정보를 입력받을 수 있다."
   ]
  },
  {
   "cell_type": "code",
   "execution_count": 4,
   "id": "7e7310e0-4e8c-4432-b64a-702f24bffac1",
   "metadata": {
    "tags": [
     "jce.problems.2단원.2-1단원-예제1"
    ]
   },
   "outputs": [
    {
     "name": "stdin",
     "output_type": "stream",
     "text": [
      "이름을 입력하세요 고고\n"
     ]
    },
    {
     "name": "stdout",
     "output_type": "stream",
     "text": [
      "고고\n"
     ]
    }
   ],
   "source": [
    "#예제 1 : \"이름을 입력하세요\"를 먼저 출력 후 이름 입력하기\n",
    "\n",
    "name = input(\"이름을 입력하세요\")\n",
    "print(name)"
   ]
  },
  {
   "cell_type": "markdown",
   "id": "dd7288e4-841e-414b-894f-29045153f73d",
   "metadata": {},
   "source": [
    "<a href='#jce-judge/open/180' target='_self'><h3>입력과 출력 1</h3></a>\n"
   ]
  },
  {
   "cell_type": "markdown",
   "id": "757f2394-a4ca-48b2-8569-1ec2ded48325",
   "metadata": {},
   "source": [
    "## **변수란 무엇일까?**\n",
    "\n",
    "* **변수 : 변할 수 있는 숫자를 뜻합니다.**\n",
    "> 코딩을 할 때에는 숫자보다는 자료를 저장하는 공간이라고 생각하면 좋습니다. \n",
    "\n",
    "* **변수의 종류**\n",
    "> 숫자(정수는 int, 실수는 float), 문자열(str), 리스트(list), 딕셔너리 "
   ]
  },
  {
   "cell_type": "markdown",
   "id": "d66f66c0-5e87-4f09-91c1-b81381dd22be",
   "metadata": {},
   "source": [
    "## **변수는 어떻게 사용할까요?**\n",
    "\n",
    "* **a=10과 같이 값을 저장해주기 위해 '='을 사용합니다.**\n",
    "> 그렇게 a에 10이라는 값이 저장되게 됩니다. \n",
    "\n",
    "* **변수안에 저장된 값은 바뀔 수 있어요!**\n",
    "> a = 10 이후에 a = 20을 실행하면, 마지막에 저장된 값으로 바뀌게 됩니다. "
   ]
  },
  {
   "cell_type": "code",
   "execution_count": 5,
   "id": "65ea004a-192b-4073-b325-49e606c006a6",
   "metadata": {
    "tags": [
     "jce.problems.2단원.2-1단원-예제2"
    ]
   },
   "outputs": [
    {
     "name": "stdout",
     "output_type": "stream",
     "text": [
      "20\n"
     ]
    }
   ],
   "source": [
    "# 예제 2 \n",
    "a = 10\n",
    "a = 20\n",
    "print(a)"
   ]
  },
  {
   "cell_type": "markdown",
   "id": "2e8befbb-b60e-41f1-8486-e9eb05349953",
   "metadata": {},
   "source": [
    "## **변수의 이름은 어떻게 지을까요?**\n",
    "\n",
    "* 숫자, 알파벳, 한글 등을 사용할 수 있습니다.\n",
    "> 단, 첫 문자는 숫자로 이루어져서는 안됩니다. \n",
    "\n",
    "* 변수 이름은 누가 봐도 이해할 수 있도록 지어주세요. \n",
    "> 가격을 계산하고 싶을 때 변수명을 price로 한다면, 다른 사람이 코드를 알아보기 쉽겠죠?"
   ]
  },
  {
   "cell_type": "code",
   "execution_count": null,
   "id": "6df3f766-77ca-4e23-8db3-5ef33de9bf77",
   "metadata": {
    "tags": [
     "jce.problems.2단원.2-1단원-예제3"
    ]
   },
   "outputs": [],
   "source": [
    "# 예제 3\n",
    "pizza = 30000\n",
    "coffee = 2500\n",
    "print(coffee)"
   ]
  },
  {
   "cell_type": "markdown",
   "id": "35358112-4904-4463-85bc-86824bb36808",
   "metadata": {},
   "source": [
    "## **자료형과 사칙연산**\n",
    "\n",
    "* 파이썬에서도 사칙연산을 할 수 있습니다. 아래의 사칙 연산 기호들을 참고하세요!\n",
    "연산 | 설명 | 예시 | 결과\n",
    "---|:---:|---|---\n",
    "\\+ | 더하기 | 7 + 2 | 9\n",
    "\\- | 빼기 | 7 - 2 | 5\n",
    "\\* | 곱하기 | 7 * 2 | 14\n",
    "\\/ | 나누기 | 7 / 2 | 3.5\n",
    "\\// | 몫 | 7 // 2 | 3\n",
    "\\% | 나머지 | 7 % 2 | 1"
   ]
  },
  {
   "cell_type": "code",
   "execution_count": 6,
   "id": "23d2e9e1-ce7c-4855-85cd-69417490eb7f",
   "metadata": {
    "tags": [
     "jce.problems.2단원.2-1단원-예제4"
    ]
   },
   "outputs": [
    {
     "name": "stdout",
     "output_type": "stream",
     "text": [
      "9\n",
      "5\n",
      "14\n",
      "3.5\n",
      "3\n",
      "1\n"
     ]
    }
   ],
   "source": [
    "#예제 4\n",
    "\n",
    "A = 7 # 변수 A에 7을 저장합니다.\n",
    "B = 2 # 변수 B에 2를 저장합니다.\n",
    "\n",
    "print(A + B)  # A와 B를 더한 값을 구합니다.\n",
    "print(A - B)  # A에서 B를 뺀 값을 구합니다.\n",
    "print(A * B)  # A와 B를 곱한 값을 구합니다.\n",
    "print(A / B)  # A에서 B를 나눈 값을 구합니다.\n",
    "print(A // B) # A를 B로 나눈 몫을 구합니다.\n",
    "print(A % B)  # A를 B로 나눈 나머지를 구합니다."
   ]
  },
  {
   "cell_type": "markdown",
   "id": "f1fa24ac-f16e-4603-9ae0-ce4255172b19",
   "metadata": {},
   "source": [
    "* 문자열도 더하고 곱할 수 있습니다. \n",
    "> 두 문자열을 연결하고 싶을 때는 \"+\" 연산, 같은 문자를 여러 번 출력하고 싶을 때는  \"*\"연산자를 활용합니다."
   ]
  },
  {
   "cell_type": "code",
   "execution_count": 7,
   "id": "fe7186b9-4f04-474c-855d-a64fccc7c996",
   "metadata": {
    "tags": [
     "jce.problems.2단원.2-1단원-예제5"
    ]
   },
   "outputs": [
    {
     "name": "stdout",
     "output_type": "stream",
     "text": [
      "코들 파이썬\n"
     ]
    }
   ],
   "source": [
    "#예제 5\n",
    "\n",
    "a = '코들'   # 변수 a에 '코들'을 저장합니다.\n",
    "b = ' 파이썬' # 변수 b에 '파이썬'을 저장합니다.\n",
    "\n",
    "print(a + b) # a와 b를 이어붙인 문자열을 출력합니다.  "
   ]
  },
  {
   "cell_type": "code",
   "execution_count": 8,
   "id": "ba6aabe7-515e-45c0-82d7-287e6651ca27",
   "metadata": {
    "tags": [
     "jce.problems.2단원.2-1단원-예제6"
    ]
   },
   "outputs": [
    {
     "name": "stdout",
     "output_type": "stream",
     "text": [
      "코들 코들 코들 \n"
     ]
    }
   ],
   "source": [
    "#예제 6\n",
    "\n",
    "a = '코들 '   # 변수 a에 '코들'을 저장합니다.\n",
    "\n",
    "print(a * 3) # 코들을 3번 출력합니다."
   ]
  }
 ],
 "metadata": {
  "kernelspec": {
   "display_name": "Python 3 (ipykernel)",
   "language": "python",
   "name": "python3"
  },
  "language_info": {
   "codemirror_mode": {
    "name": "ipython",
    "version": 3
   },
   "file_extension": ".py",
   "mimetype": "text/x-python",
   "name": "python",
   "nbconvert_exporter": "python",
   "pygments_lexer": "ipython3",
   "version": "3.10.4"
  }
 },
 "nbformat": 4,
 "nbformat_minor": 5
}
