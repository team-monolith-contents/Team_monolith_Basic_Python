{
 "cells": [
  {
   "cell_type": "markdown",
   "id": "fd999b27-41d5-4aca-b42c-0fc1c071f471",
   "metadata": {},
   "source": [
    "## **함수란?**\n",
    "* 같은 동작을 반복하는 부분을 별도로 만들어 활용하고 싶을 때 사용합니다.\n",
    "* 수학에서 함수를 공부할 때 배웠던 일차함수를 생각해봅시다. \n",
    "* f(x) = 7x+3 일때, 이 함수는 x에 3을 넣으면, 7*3+3인 24를 반환해줍니다.\n",
    "* 즉 일정한 수식을 적용하여 결과를 반환합니다.  \n",
    "* 이와 같이, 컴퓨터의 함수도 입력값에 대해 정의된 기능을 처리하는 일을 합니다.   \n",
    "* 코드의 길이가 길 때 함수를 활용한다면, 반복되어 사용되는 코드를 하나의 프로그램으로 단순화시킬 수 있습니다.    "
   ]
  },
  {
   "attachments": {
    "e5c77a4b-6b54-4941-bca1-643007bea5f4.png": {
     "image/png": "[encoded data removed]"
    }
   },
   "cell_type": "markdown",
   "id": "f834b704-8c67-455a-9a5a-8204113bd119",
   "metadata": {},
   "source": [
    "![함수 그림.png](attachment:e5c77a4b-6b54-4941-bca1-643007bea5f4.png)"
   ]
  },
  {
   "attachments": {
    "2a19f6e5-ee0d-43b9-82f6-cd4bb0981311.PNG": {
     "image/png": "[encoded data removed]"
    }
   },
   "cell_type": "markdown",
   "id": "9b879071-5ec2-4cc8-bf6c-827ab3dc1ff1",
   "metadata": {},
   "source": [
    "## **선언 방법**\n",
    "![7단원 함수 설명 그림.PNG](attachment:2a19f6e5-ee0d-43b9-82f6-cd4bb0981311.PNG)"
   ]
  },
  {
   "cell_type": "markdown",
   "id": "a0b03832-d8eb-4cbc-a8b8-1f613e57906c",
   "metadata": {},
   "source": [
    "### **함수 선언** \n",
    "* def : def 는 'define'의 약자로 '정의하다'라는 뜻입니다. 즉 함수를 '정의'한다는 의미로 가장 앞쪽에 def를 써준 것이라고 볼 수 있습니다.   \n",
    "* 함수명 : 함수명은 변수명과 마찬가지로 숫자, 알파벳 등을 사용해서 만들 수 있으며, 누가 읽어도 이해할 수 있는 이름이어야 합니다.   \n",
    "* 매개변수 : 함수를 호출할 때 넣어준 인수가 함수 내부에서 활용될 수 있도록 해주는 변수입니다. \n",
    "* 명령문 : 함수를 호출했을 때 실행되길 바라는 명령문들을 들여쓰기를 하여 작성해줍니다.   \n",
    "* return : return은 함수의 반환값을 반환해줍니다. 이뿐만 아니라 return문은 함수를 종료해주는 기능을 하기도 합니다.   "
   ]
  },
  {
   "cell_type": "markdown",
   "id": "ea1c183f-4f65-4731-8c42-7bb87ef9e6cb",
   "metadata": {},
   "source": [
    "### **함수 호출** \n",
    "* 함수 선언 당시 매개변수를 생략했다면, 함수를 호출할 때에도 인수를 생략한 채 빈 괄호로 호출합니다. \n",
    "* 매개변수의 개수만큼 인수를 작성해주어야 합니다. "
   ]
  },
  {
   "cell_type": "code",
   "execution_count": null,
   "id": "03af51ff-ccd0-46d9-8ba6-62695a0b09d7",
   "metadata": {
    "tags": [
     "jce.problems.221.7단원-예제1"
    ]
   },
   "outputs": [],
   "source": [
    "#예제 1 함수 활용하기 \"인수가 없는 경우\"\n",
    "\n",
    "# 함수를 정의하는 부분입니다. \n",
    "def codle(): \n",
    "    print(\"코들\")\n",
    "    \n",
    "# 함수를 호출하는 부분입니다. \n",
    "codle()"
   ]
  },
  {
   "cell_type": "markdown",
   "id": "51a37c58-98b4-4af0-a110-31eff029d41e",
   "metadata": {},
   "source": [
    "### **해설1** \n",
    "위 codle이라는 함수는 호출하면 \"코들\"를 출력해주는 함수입니다.  \n",
    "함수를 정의할 때에는 괄호를 닫지 않거나 문장 끝에 \":\"을 빠트리면 오류가 발생하게 됩니다.  "
   ]
  },
  {
   "cell_type": "markdown",
   "id": "8eb2bc68-f2ca-4d21-9efd-edc6a131708b",
   "metadata": {},
   "source": [
    "### **해설2** \n",
    "함수를 정의하는 부분에서는 코드가 실행되지 않고, 함수를 호출하는 부분에서 코드가 실행됩니다.\n",
    "실제로 함수를 정의만 하고 호출하지 않는다면, 아무것도 출력되지 않는 모습을 볼 수 있을 것입니다. "
   ]
  },
  {
   "cell_type": "code",
   "execution_count": null,
   "id": "a77901d1-3ddc-4304-9b8c-75134f9f5b34",
   "metadata": {
    "tags": [
     "jce.problems.221.7단원-예제2"
    ]
   },
   "outputs": [],
   "source": [
    "#예제 2 함수 활용하기 \"인수가 있는 경우\"\n",
    "def calculation(x):\n",
    "    y = 7*x +3\n",
    "    return y  # 결과값 y를 반환합니다. \n",
    "\n",
    "n = calculation(7)  # 변수 n에 함수에서 반환된 y값이 저장됩니다. \n",
    "print(\"계산한 값은? \"+ str(y))"
   ]
  },
  {
   "cell_type": "markdown",
   "id": "da425784-790a-4bd8-9bc9-54f36e6fe2d9",
   "metadata": {},
   "source": [
    "### **해설** \n",
    "위 calculation이라는 함수는 호출하면 전달 받은 x값에 7을 곱하고 3을 더한 값 y를 반환해주는 함수입니다.  \n",
    "함수를 호출하면 함수에 넘겨주는 값을 `인수`라고 합니다. 위 코드에서는 7이 인수가 되겠죠.  \n",
    "정의된 함수에서 이 `인수`를 전달 받는 값 x는 `파라미터` 혹은 `매개 변수`라고 부릅니다.  \n",
    "마지막으로 출력 정보를 담은 변수 y는 `리턴 값`, `반환 값`이라고 부릅니다.   \n",
    "이렇게 n은 7*7+3 한 값을 전달 받아 52가 됩니다. "
   ]
  },
  {
   "cell_type": "code",
   "execution_count": null,
   "id": "a23db817-aae0-4fb2-867a-cff96e39a71c",
   "metadata": {
    "tags": [
     "jce.problems.221.7단원-예제3"
    ]
   },
   "outputs": [],
   "source": [
    "## 예제 3 : 두 수의 곱을 반환 하는 함수 작성하기. \n",
    "def product(a,b):\n",
    "    return a*b\n",
    "\n",
    "print(product(3,5))"
   ]
  },
  {
   "cell_type": "markdown",
   "id": "44ad3933-4d74-4ef6-8adc-a96cbcc252c5",
   "metadata": {},
   "source": [
    "# <연습문제 set>\n",
    "<a href='#jce-judge/open/200' target='_self'><h3>몫 계산</h3></a>\n",
    "\n"
   ]
  },
  {
   "cell_type": "markdown",
   "id": "2b711666-fedd-4720-9e9c-c6eadd6f1f5b",
   "metadata": {},
   "source": [
    "### **실생활 프로젝트** \n",
    "노래방 점수를 입력받아 점수 별로 멘트를 출력해보는 함수를 만들어봅시다.   \n",
    "\n",
    "100점 : 환상적인 노래 실력, 가수 데뷔해도 되겠는데요?!  \n",
    "90 ~ 99점 : 한곡 더 듣고 싶은 실력! 불러줄꺼죠?    \n",
    "80 ~ 89점 : 탐나는 목소리를 가졌다고 전해라~    \n",
    "70 ~ 79 : 한곡 더 놀아볼까?  \n",
    "70점 미만 : 이 점수 어쩌면 좋지?  "
   ]
  },
  {
   "cell_type": "code",
   "execution_count": null,
   "id": "7fa2177c-6981-4f64-9aaa-1f3a01121517",
   "metadata": {
    "tags": [
     "jce.problems.221.7단원-예제4"
    ]
   },
   "outputs": [],
   "source": [
    "# 예제 4 : 실생활 프로젝트.\n",
    "def singer(score):  # def 함수명(매개변수)\n",
    "    score = int(score)\n",
    "    if score == 100 :\n",
    "        print(\"환상적인 노래 실력, 가수 데뷔해도 되겠는데요?!\")\n",
    "    elif score >= 90 and score < 100:\n",
    "        print(\"한곡 더 듣고 싶은 실력! 불러줄꺼죠?\")\n",
    "    elif score >= 80 and score < 90:\n",
    "        print(\"탐나는 목소리를 가졌다고 전해라~\")\n",
    "    elif score >= 70 and score < 80:\n",
    "        print(\"한곡 더 놀아볼까?\")\n",
    "    else :\n",
    "        print(\"이 점수 어쩌면 좋지?\")\n",
    "        \n",
    "n = input(\"노래방 점수를 입력하세요!\")\n",
    "singer(n)"
   ]
  },
  {
   "cell_type": "markdown",
   "id": "34378b68-778f-4d7c-8e4a-8a39bf7c1de4",
   "metadata": {},
   "source": [
    "## list를 매개변수로 활용하기 전! 알아야되는 len 함수\n",
    "> a를 어떤 list라고 가정합시다.  \n",
    "len(a) : list a의 길이를 반환합니다. 즉 list의 원소 개수를 반환합니다.   \n",
    "만약 a = [1,2,3,4] 이면 len(a)는 4가 되겠죠?\n",
    "(참고로 len(a)는 a의 마지막 인덱스보다 하나 큽니다. a의 마지막 인덱스 값은 3, len(a)는 4라는 점을 보면 알 수 있죠?)"
   ]
  },
  {
   "cell_type": "code",
   "execution_count": null,
   "id": "5baa949a-a9e8-445a-826f-bfdadc2c0e41",
   "metadata": {
    "tags": [
     "jce.problems.221.7단원-예제5"
    ]
   },
   "outputs": [],
   "source": [
    "# 예제 5 : list를 매개 변수로 활용하기 (list 내에서 최소값을 리턴하기)\n",
    "def minimum(numbers):\n",
    "    min = numbers[0]  \n",
    "        # numbers[0]을 일단 min값으로 저장하고, 이후 리스트의 원소들을 모두 순회하면서 min과 비교하고, min보다 작으면 해당 값을 min에 다시 저장해줍니다.\n",
    "    for i in range(1,len(numbers)):  # i는 numbers의 원소들을 순회할 인덱스 넘버가 되어줄 것입니다. 따라서 1부터 len(numbers) 전까지만 순회해야 합니다. \n",
    "        if min > numbers[i]:\n",
    "            min = numbers[i]  # min보다 해당 원소값이 더 작으면, 그 값을 min에 다시 저장해줍니다. \n",
    "            \n",
    "    # 반복을 모두 끝내면 원소들을 모두 순회한 후이기 때문에, min에 저장된 값은 numbers의 최소값이 저장됩니다. \n",
    "    \n",
    "    return min  # 결과인 min을 반환해줍니다. \n",
    "\n",
    "num = [70,20,30,25,27]\n",
    "print(minimum(num))\n",
    "    "
   ]
  },
  {
   "cell_type": "markdown",
   "id": "6140bdbb-5d8a-4cc3-aa53-d649ab4aaf0e",
   "metadata": {},
   "source": [
    "## **지역변수와 전역변수** \n",
    "파이선에서 변수의 사용 범위는 함수를 기준으로 다르게 표현됩니다.  \n",
    "변수를 함수 내부에서 선언하면, 해당 함수 안에서만 활용할 수 있고, 이를 `지역변수`라고 합니다.   \n",
    "하지만, 변수를 함수 밖에서 선언하면 코드의 모든 영역에서 활요할 수 있고, 이를 `전역변수`라고 합니다. \n",
    "\n"
   ]
  },
  {
   "attachments": {
    "8dcb856c-7c56-4d18-9e61-c14c56c20cfe.png": {
     "image/png": "[encoded data removed]"
    }
   },
   "cell_type": "markdown",
   "id": "27c2a4ae-c7c8-41aa-a16d-c9ce352ac2fe",
   "metadata": {},
   "source": [
    "![지역변수 설명.png](attachment:8dcb856c-7c56-4d18-9e61-c14c56c20cfe.png)"
   ]
  },
  {
   "cell_type": "code",
   "execution_count": null,
   "id": "0fdfcc16-fd27-495e-ba37-5682e50fa1f7",
   "metadata": {
    "tags": [
     "jce.problems.221.7단원-에제6"
    ]
   },
   "outputs": [],
   "source": [
    "# 예제 6 : 지역변수, 전역변수 예제\n",
    "def print_codle():\n",
    "    x = \"codle\"\n",
    "    print(x)\n",
    "\n",
    "print_codle()\n",
    "# print(x) -> x는 전역변수가 아니기 때문에 실행하면 오류가 발생합니다.  "
   ]
  },
  {
   "cell_type": "markdown",
   "id": "71f27578-2fab-48f0-abbf-41442328614d",
   "metadata": {},
   "source": [
    "# <연습문제 Set>\n",
    "<a href='#jce-judge/open/205' target='_self'><h3>합과 평균</h3></a>\n",
    "<a href='#jce-judge/open/131' target='_self'><h3>점수 등급 분류하기2</h3></a>\n",
    "<a href='#jce-judge/open/133' target='_self'><h3>이번 달은 무슨 계절일까요?</h3></a>\n"
   ]
  }
 ],
 "metadata": {
  "kernelspec": {
   "display_name": "Python 3 (ipykernel)",
   "language": "python",
   "name": "python3"
  },
  "language_info": {
   "codemirror_mode": {
    "name": "ipython",
    "version": 3
   },
   "file_extension": ".py",
   "mimetype": "text/x-python",
   "name": "python",
   "nbconvert_exporter": "python",
   "pygments_lexer": "ipython3",
   "version": "3.10.4"
  }
 },
 "nbformat": 4,
 "nbformat_minor": 5
}
